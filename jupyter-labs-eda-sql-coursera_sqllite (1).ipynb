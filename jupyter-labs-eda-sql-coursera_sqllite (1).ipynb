{
 "cells": [
  {
   "cell_type": "markdown",
   "metadata": {},
   "source": [
    "<p style=\"text-align:center\">\n",
    "    <a href=\"https://skills.network/?utm_medium=Exinfluencer&utm_source=Exinfluencer&utm_content=000026UJ&utm_term=10006555&utm_id=NA-SkillsNetwork-Channel-SkillsNetworkCoursesIBMDS0321ENSkillsNetwork26802033-2022-01-01\" target=\"_blank\">\n",
    "    <img src=\"https://cf-courses-data.s3.us.cloud-object-storage.appdomain.cloud/assets/logos/SN_web_lightmode.png\" width=\"200\" alt=\"Skills Network Logo\"  />\n",
    "    </a>\n",
    "</p>\n",
    "\n",
    "<h1 align=center><font size = 5>Assignment: SQL Notebook for Peer Assignment</font></h1>\n",
    "\n",
    "Estimated time needed: **60** minutes.\n",
    "\n",
    "## Introduction\n",
    "\n",
    "Using this Python notebook you will:\n",
    "\n",
    "1.  Understand the Spacex DataSet\n",
    "2.  Load the dataset  into the corresponding table in a Db2 database\n",
    "3.  Execute SQL queries to answer assignment questions\n"
   ]
  },
  {
   "cell_type": "markdown",
   "metadata": {},
   "source": [
    "## Overview of the DataSet\n",
    "\n",
    "SpaceX has gained worldwide attention for a series of historic milestones.\n",
    "\n",
    "It is the only private company ever to return a spacecraft from low-earth orbit, which it first accomplished in December 2010.\n",
    "SpaceX advertises Falcon 9 rocket launches on its website with a cost of 62 million dollars wheras other providers cost upward of 165 million dollars each, much of the savings is because Space X can reuse the first stage.\n",
    "\n",
    "Therefore if we can determine if the first stage will land, we can determine the cost of a launch.\n",
    "\n",
    "This information can be used if an alternate company wants to bid against SpaceX for a rocket launch.\n",
    "\n",
    "This dataset includes a record for each payload carried during a SpaceX mission into outer space.\n"
   ]
  },
  {
   "cell_type": "markdown",
   "metadata": {},
   "source": [
    "### Download the datasets\n",
    "\n",
    "This assignment requires you to load the spacex dataset.\n",
    "\n",
    "In many cases the dataset to be analyzed is available as a .CSV (comma separated values) file, perhaps on the internet. Click on the link below to download and save the dataset (.CSV file):\n",
    "\n",
    "<a href=\"https://cf-courses-data.s3.us.cloud-object-storage.appdomain.cloud/IBM-DS0321EN-SkillsNetwork/labs/module_2/data/Spacex.csv?utm_medium=Exinfluencer&utm_source=Exinfluencer&utm_content=000026UJ&utm_term=10006555&utm_id=NA-SkillsNetwork-Channel-SkillsNetworkCoursesIBMDS0321ENSkillsNetwork26802033-2022-01-01\" target=\"_blank\">Spacex DataSet</a>\n"
   ]
  },
  {
   "cell_type": "markdown",
   "metadata": {},
   "source": [
    "### Store the dataset in database table\n",
    "\n",
    "**it is highly recommended to manually load the table using the database console LOAD tool in DB2**.\n",
    "\n",
    "<img src = \"https://cf-courses-data.s3.us.cloud-object-storage.appdomain.cloud/IBM-DS0321EN-SkillsNetwork/labs/module_2/images/spacexload.png\">\n",
    "\n",
    "Now open the Db2 console, open the LOAD tool, Select / Drag the .CSV file for the  dataset, Next create a New Table, and then follow the steps on-screen instructions to load the data. Name the new table as follows:\n",
    "\n",
    "**SPACEXDATASET**\n",
    "\n",
    "**Follow these steps while using old DB2 UI which is having Open Console Screen**\n",
    "\n",
    "**Note:While loading Spacex dataset, ensure that detect datatypes is disabled. Later click on the pencil icon(edit option).**\n",
    "\n",
    "1.  Change the Date Format by manually typing DD-MM-YYYY and timestamp format as DD-MM-YYYY HH\\:MM:SS\n",
    "\n",
    "2.  Change the PAYLOAD_MASS\\_\\_KG\\_  datatype  to INTEGER.\n",
    "\n",
    "<img src = \"https://cf-courses-data.s3.us.cloud-object-storage.appdomain.cloud/IBM-DS0321EN-SkillsNetwork/labs/module_2/images/spacexload2.png\">\n"
   ]
  },
  {
   "cell_type": "markdown",
   "metadata": {},
   "source": [
    "**Changes to be considered when having DB2 instance with the new UI having Go to UI screen**\n",
    "\n",
    "*   Refer to this insruction in this <a href=\"https://cf-courses-data.s3.us.cloud-object-storage.appdomain.cloud/IBMDeveloperSkillsNetwork-DB0201EN-SkillsNetwork/labs/Labs_Coursera_V5/labs/Lab%20-%20Sign%20up%20for%20IBM%20Cloud%20-%20Create%20Db2%20service%20instance%20-%20Get%20started%20with%20the%20Db2%20console/instructional-labs.md.html?utm_medium=Exinfluencer&utm_source=Exinfluencer&utm_content=000026UJ&utm_term=10006555&utm_id=NA-SkillsNetwork-Channel-SkillsNetworkCoursesIBMDS0321ENSkillsNetwork26802033-2022-01-01\">link</a> for viewing  the new  Go to UI screen.\n",
    "\n",
    "*   Later click on **Data link(below SQL)**  in the Go to UI screen  and click on **Load Data** tab.\n",
    "\n",
    "*   Later browse for the downloaded spacex file.\n",
    "\n",
    "<img src=\"https://cf-courses-data.s3.us.cloud-object-storage.appdomain.cloud/IBM-DS0321EN-SkillsNetwork/labs/module_2/images/browsefile.png\" width=\"800\"/>\n",
    "\n",
    "*   Once done select the schema andload the file.\n",
    "\n",
    " <img src=\"https://cf-courses-data.s3.us.cloud-object-storage.appdomain.cloud/IBM-DS0321EN-SkillsNetwork/labs/module_2/images/spacexload3.png\" width=\"800\"/>\n"
   ]
  },
  {
   "cell_type": "code",
   "execution_count": 1,
   "metadata": {},
   "outputs": [
    {
     "name": "stdout",
     "output_type": "stream",
     "text": [
      "Requirement already satisfied: sqlalchemy==1.3.9 in c:\\users\\0014cw744\\anaconda3\\lib\\site-packages (1.3.9)\n",
      "Collecting ibm_db_sa\n",
      "  Using cached ibm_db_sa-0.3.8-py3-none-any.whl (30 kB)\n",
      "Requirement already satisfied: sqlalchemy>=0.7.3 in c:\\users\\0014cw744\\anaconda3\\lib\\site-packages (from ibm_db_sa) (1.3.9)\n",
      "Collecting ibm-db>=2.0.0\n",
      "  Using cached ibm_db-3.1.4.tar.gz (1.4 MB)\n",
      "  Installing build dependencies: started\n",
      "  Installing build dependencies: finished with status 'done'\n",
      "  Getting requirements to build wheel: started\n",
      "  Getting requirements to build wheel: finished with status 'done'\n"
     ]
    },
    {
     "name": "stderr",
     "output_type": "stream",
     "text": [
      "ERROR: Could not install packages due to an OSError: [Errno 2] No such file or directory: 'C:\\\\Users\\\\0014CW~1\\\\AppData\\\\Local\\\\Temp\\\\tmp4j0kez3s\\\\output.json'\n",
      "\n"
     ]
    },
    {
     "name": "stdout",
     "output_type": "stream",
     "text": [
      "Requirement already satisfied: ipython-sql in c:\\users\\0014cw744\\anaconda3\\lib\\site-packages (0.4.1)\n",
      "Requirement already satisfied: ipython>=1.0 in c:\\users\\0014cw744\\anaconda3\\lib\\site-packages (from ipython-sql) (7.31.1)\n",
      "Requirement already satisfied: six in c:\\users\\0014cw744\\anaconda3\\lib\\site-packages (from ipython-sql) (1.16.0)\n",
      "Requirement already satisfied: prettytable<1 in c:\\users\\0014cw744\\anaconda3\\lib\\site-packages (from ipython-sql) (0.7.2)\n",
      "Requirement already satisfied: sqlalchemy>=0.6.7 in c:\\users\\0014cw744\\anaconda3\\lib\\site-packages (from ipython-sql) (1.3.9)\n",
      "Requirement already satisfied: ipython-genutils>=0.1.0 in c:\\users\\0014cw744\\anaconda3\\lib\\site-packages (from ipython-sql) (0.2.0)\n",
      "Requirement already satisfied: sqlparse in c:\\users\\0014cw744\\anaconda3\\lib\\site-packages (from ipython-sql) (0.4.3)\n",
      "Requirement already satisfied: traitlets>=4.2 in c:\\users\\0014cw744\\anaconda3\\lib\\site-packages (from ipython>=1.0->ipython-sql) (5.1.1)\n",
      "Requirement already satisfied: backcall in c:\\users\\0014cw744\\anaconda3\\lib\\site-packages (from ipython>=1.0->ipython-sql) (0.2.0)\n",
      "Requirement already satisfied: matplotlib-inline in c:\\users\\0014cw744\\anaconda3\\lib\\site-packages (from ipython>=1.0->ipython-sql) (0.1.6)\n",
      "Requirement already satisfied: pickleshare in c:\\users\\0014cw744\\anaconda3\\lib\\site-packages (from ipython>=1.0->ipython-sql) (0.7.5)\n",
      "Requirement already satisfied: jedi>=0.16 in c:\\users\\0014cw744\\anaconda3\\lib\\site-packages (from ipython>=1.0->ipython-sql) (0.18.1)\n",
      "Requirement already satisfied: colorama in c:\\users\\0014cw744\\anaconda3\\lib\\site-packages (from ipython>=1.0->ipython-sql) (0.4.5)\n",
      "Requirement already satisfied: pygments in c:\\users\\0014cw744\\anaconda3\\lib\\site-packages (from ipython>=1.0->ipython-sql) (2.11.2)\n",
      "Requirement already satisfied: decorator in c:\\users\\0014cw744\\anaconda3\\lib\\site-packages (from ipython>=1.0->ipython-sql) (5.1.1)\n",
      "Requirement already satisfied: setuptools>=18.5 in c:\\users\\0014cw744\\anaconda3\\lib\\site-packages (from ipython>=1.0->ipython-sql) (63.4.1)\n",
      "Requirement already satisfied: prompt-toolkit!=3.0.0,!=3.0.1,<3.1.0,>=2.0.0 in c:\\users\\0014cw744\\anaconda3\\lib\\site-packages (from ipython>=1.0->ipython-sql) (3.0.20)\n",
      "Requirement already satisfied: parso<0.9.0,>=0.8.0 in c:\\users\\0014cw744\\anaconda3\\lib\\site-packages (from jedi>=0.16->ipython>=1.0->ipython-sql) (0.8.3)\n",
      "Requirement already satisfied: wcwidth in c:\\users\\0014cw744\\anaconda3\\lib\\site-packages (from prompt-toolkit!=3.0.0,!=3.0.1,<3.1.0,>=2.0.0->ipython>=1.0->ipython-sql) (0.2.5)\n"
     ]
    }
   ],
   "source": [
    "\n",
    "!pip install sqlalchemy==1.3.9\n",
    "!pip install ibm_db_sa\n",
    "!pip install ipython-sql"
   ]
  },
  {
   "cell_type": "markdown",
   "metadata": {},
   "source": [
    "### Connect to the database\n",
    "\n",
    "Let us first load the SQL extension and establish a connection with the database\n"
   ]
  },
  {
   "cell_type": "code",
   "execution_count": 12,
   "metadata": {},
   "outputs": [
    {
     "name": "stdout",
     "output_type": "stream",
     "text": [
      "The sql extension is already loaded. To reload it, use:\n",
      "  %reload_ext sql\n"
     ]
    }
   ],
   "source": [
    "%load_ext sql"
   ]
  },
  {
   "cell_type": "code",
   "execution_count": 13,
   "metadata": {},
   "outputs": [],
   "source": [
    "import csv, sqlite3\n",
    "\n",
    "con = sqlite3.connect(\"my_data1.db\")\n",
    "cur = con.cursor()"
   ]
  },
  {
   "cell_type": "code",
   "execution_count": 14,
   "metadata": {},
   "outputs": [],
   "source": [
    "!pip install -q pandas==1.1.5"
   ]
  },
  {
   "cell_type": "code",
   "execution_count": 15,
   "metadata": {},
   "outputs": [],
   "source": [
    "%sql sqlite:///my_data1.db"
   ]
  },
  {
   "cell_type": "code",
   "execution_count": 73,
   "metadata": {
    "scrolled": true
   },
   "outputs": [],
   "source": [
    "import pandas as pd\n",
    "df = pd.read_csv(\"C:/Users/0014CW744/Downloads/Spacex.csv\")\n",
    "df.to_sql(\"SPACEXTBL\", con, if_exists='replace', index=False,method=\"multi\")"
   ]
  },
  {
   "cell_type": "markdown",
   "metadata": {},
   "source": [
    "## Tasks\n",
    "\n",
    "Now write and execute SQL queries to solve the assignment tasks.\n",
    "\n",
    "**Note: If the column names are in mixed case enclose it in double quotes\n",
    "For Example \"Landing_Outcome\"**\n",
    "\n",
    "### Task 1\n",
    "\n",
    "##### Display the names of the unique launch sites  in the space mission\n"
   ]
  },
  {
   "cell_type": "code",
   "execution_count": 74,
   "metadata": {},
   "outputs": [
    {
     "name": "stdout",
     "output_type": "stream",
     "text": [
      " * sqlite:///my_data1.db\n",
      "Done.\n"
     ]
    },
    {
     "data": {
      "text/html": [
       "<table>\n",
       "    <tr>\n",
       "        <th>Launch_Site</th>\n",
       "    </tr>\n",
       "    <tr>\n",
       "        <td>CCAFS LC-40</td>\n",
       "    </tr>\n",
       "    <tr>\n",
       "        <td>CCAFS SLC-40</td>\n",
       "    </tr>\n",
       "    <tr>\n",
       "        <td>KSC LC-39A</td>\n",
       "    </tr>\n",
       "    <tr>\n",
       "        <td>VAFB SLC-4E</td>\n",
       "    </tr>\n",
       "</table>"
      ],
      "text/plain": [
       "[('CCAFS LC-40',), ('CCAFS SLC-40',), ('KSC LC-39A',), ('VAFB SLC-4E',)]"
      ]
     },
     "execution_count": 74,
     "metadata": {},
     "output_type": "execute_result"
    }
   ],
   "source": [
    "sql SELECT DISTINCT LAUNCH_SITE FROM SPACEXTBL ORDER BY 1;"
   ]
  },
  {
   "cell_type": "markdown",
   "metadata": {},
   "source": [
    "### Task 2\n",
    "\n",
    "##### Display 5 records where launch sites begin with the string 'CCA'\n"
   ]
  },
  {
   "cell_type": "code",
   "execution_count": 114,
   "metadata": {},
   "outputs": [
    {
     "name": "stdout",
     "output_type": "stream",
     "text": [
      " * sqlite:///my_data1.db\n",
      "Done.\n"
     ]
    },
    {
     "data": {
      "text/html": [
       "<table>\n",
       "    <tr>\n",
       "        <th>Date</th>\n",
       "        <th>Time (UTC)</th>\n",
       "        <th>Booster_Version</th>\n",
       "        <th>Launch_Site</th>\n",
       "        <th>Payload</th>\n",
       "        <th>PAYLOAD_MASS__KG_</th>\n",
       "        <th>Orbit</th>\n",
       "        <th>Customer</th>\n",
       "        <th>Mission_Outcome</th>\n",
       "        <th>Landing_Outcome</th>\n",
       "    </tr>\n",
       "    <tr>\n",
       "        <td>4/6/2010</td>\n",
       "        <td>18:45:00</td>\n",
       "        <td>F9 v1.0  B0003</td>\n",
       "        <td>CCAFS LC-40</td>\n",
       "        <td>Dragon Spacecraft Qualification Unit</td>\n",
       "        <td>0</td>\n",
       "        <td>LEO</td>\n",
       "        <td>SpaceX</td>\n",
       "        <td>Success</td>\n",
       "        <td>Failure (parachute)</td>\n",
       "    </tr>\n",
       "    <tr>\n",
       "        <td>8/12/2010</td>\n",
       "        <td>15:43:00</td>\n",
       "        <td>F9 v1.0  B0004</td>\n",
       "        <td>CCAFS LC-40</td>\n",
       "        <td>Dragon demo flight C1, two CubeSats, barrel of Brouere cheese</td>\n",
       "        <td>0</td>\n",
       "        <td>LEO (ISS)</td>\n",
       "        <td>NASA (COTS) NRO</td>\n",
       "        <td>Success</td>\n",
       "        <td>Failure (parachute)</td>\n",
       "    </tr>\n",
       "    <tr>\n",
       "        <td>22-05-2012</td>\n",
       "        <td>7:44:00</td>\n",
       "        <td>F9 v1.0  B0005</td>\n",
       "        <td>CCAFS LC-40</td>\n",
       "        <td>Dragon demo flight C2</td>\n",
       "        <td>525</td>\n",
       "        <td>LEO (ISS)</td>\n",
       "        <td>NASA (COTS)</td>\n",
       "        <td>Success</td>\n",
       "        <td>No attempt</td>\n",
       "    </tr>\n",
       "    <tr>\n",
       "        <td>8/10/2012</td>\n",
       "        <td>0:35:00</td>\n",
       "        <td>F9 v1.0  B0006</td>\n",
       "        <td>CCAFS LC-40</td>\n",
       "        <td>SpaceX CRS-1</td>\n",
       "        <td>500</td>\n",
       "        <td>LEO (ISS)</td>\n",
       "        <td>NASA (CRS)</td>\n",
       "        <td>Success</td>\n",
       "        <td>No attempt</td>\n",
       "    </tr>\n",
       "    <tr>\n",
       "        <td>1/3/2013</td>\n",
       "        <td>15:10:00</td>\n",
       "        <td>F9 v1.0  B0007</td>\n",
       "        <td>CCAFS LC-40</td>\n",
       "        <td>SpaceX CRS-2</td>\n",
       "        <td>677</td>\n",
       "        <td>LEO (ISS)</td>\n",
       "        <td>NASA (CRS)</td>\n",
       "        <td>Success</td>\n",
       "        <td>No attempt</td>\n",
       "    </tr>\n",
       "    <tr>\n",
       "        <td>3/12/2013</td>\n",
       "        <td>22:41:00</td>\n",
       "        <td>F9 v1.1</td>\n",
       "        <td>CCAFS LC-40</td>\n",
       "        <td>SES-8</td>\n",
       "        <td>3170</td>\n",
       "        <td>GTO</td>\n",
       "        <td>SES</td>\n",
       "        <td>Success</td>\n",
       "        <td>No attempt</td>\n",
       "    </tr>\n",
       "    <tr>\n",
       "        <td>6/1/2014</td>\n",
       "        <td>22:06:00</td>\n",
       "        <td>F9 v1.1</td>\n",
       "        <td>CCAFS LC-40</td>\n",
       "        <td>Thaicom 6</td>\n",
       "        <td>3325</td>\n",
       "        <td>GTO</td>\n",
       "        <td>Thaicom</td>\n",
       "        <td>Success</td>\n",
       "        <td>No attempt</td>\n",
       "    </tr>\n",
       "    <tr>\n",
       "        <td>18-04-2014</td>\n",
       "        <td>19:25:00</td>\n",
       "        <td>F9 v1.1</td>\n",
       "        <td>CCAFS LC-40</td>\n",
       "        <td>SpaceX CRS-3</td>\n",
       "        <td>2296</td>\n",
       "        <td>LEO (ISS)</td>\n",
       "        <td>NASA (CRS)</td>\n",
       "        <td>Success</td>\n",
       "        <td>Controlled (ocean)</td>\n",
       "    </tr>\n",
       "    <tr>\n",
       "        <td>14-07-2014</td>\n",
       "        <td>15:15:00</td>\n",
       "        <td>F9 v1.1</td>\n",
       "        <td>CCAFS LC-40</td>\n",
       "        <td>OG2 Mission 1  6 Orbcomm-OG2 satellites</td>\n",
       "        <td>1316</td>\n",
       "        <td>LEO</td>\n",
       "        <td>Orbcomm</td>\n",
       "        <td>Success</td>\n",
       "        <td>Controlled (ocean)</td>\n",
       "    </tr>\n",
       "    <tr>\n",
       "        <td>5/8/2014</td>\n",
       "        <td>8:00:00</td>\n",
       "        <td>F9 v1.1</td>\n",
       "        <td>CCAFS LC-40</td>\n",
       "        <td>AsiaSat 8</td>\n",
       "        <td>4535</td>\n",
       "        <td>GTO</td>\n",
       "        <td>AsiaSat</td>\n",
       "        <td>Success</td>\n",
       "        <td>No attempt</td>\n",
       "    </tr>\n",
       "    <tr>\n",
       "        <td>7/9/2014</td>\n",
       "        <td>5:00:00</td>\n",
       "        <td>F9 v1.1 B1011</td>\n",
       "        <td>CCAFS LC-40</td>\n",
       "        <td>AsiaSat 6</td>\n",
       "        <td>4428</td>\n",
       "        <td>GTO</td>\n",
       "        <td>AsiaSat</td>\n",
       "        <td>Success</td>\n",
       "        <td>No attempt</td>\n",
       "    </tr>\n",
       "    <tr>\n",
       "        <td>21-09-2014</td>\n",
       "        <td>5:52:00</td>\n",
       "        <td>F9 v1.1 B1010</td>\n",
       "        <td>CCAFS LC-40</td>\n",
       "        <td>SpaceX CRS-4</td>\n",
       "        <td>2216</td>\n",
       "        <td>LEO (ISS)</td>\n",
       "        <td>NASA (CRS)</td>\n",
       "        <td>Success</td>\n",
       "        <td>Uncontrolled (ocean)</td>\n",
       "    </tr>\n",
       "    <tr>\n",
       "        <td>10/1/2015</td>\n",
       "        <td>9:47:00</td>\n",
       "        <td>F9 v1.1 B1012</td>\n",
       "        <td>CCAFS LC-40</td>\n",
       "        <td>SpaceX CRS-5</td>\n",
       "        <td>2395</td>\n",
       "        <td>LEO (ISS)</td>\n",
       "        <td>NASA (CRS)</td>\n",
       "        <td>Success</td>\n",
       "        <td>Failure (drone ship)</td>\n",
       "    </tr>\n",
       "    <tr>\n",
       "        <td>11/2/2015</td>\n",
       "        <td>23:03:00</td>\n",
       "        <td>F9 v1.1 B1013</td>\n",
       "        <td>CCAFS LC-40</td>\n",
       "        <td>DSCOVR</td>\n",
       "        <td>570</td>\n",
       "        <td>HEO</td>\n",
       "        <td>U.S. Air Force NASA NOAA</td>\n",
       "        <td>Success</td>\n",
       "        <td>Controlled (ocean)</td>\n",
       "    </tr>\n",
       "    <tr>\n",
       "        <td>2/3/2015</td>\n",
       "        <td>3:50:00</td>\n",
       "        <td>F9 v1.1 B1014</td>\n",
       "        <td>CCAFS LC-40</td>\n",
       "        <td>ABS-3A Eutelsat 115 West B</td>\n",
       "        <td>4159</td>\n",
       "        <td>GTO</td>\n",
       "        <td>ABS Eutelsat</td>\n",
       "        <td>Success</td>\n",
       "        <td>No attempt</td>\n",
       "    </tr>\n",
       "    <tr>\n",
       "        <td>14-04-2015</td>\n",
       "        <td>20:10:00</td>\n",
       "        <td>F9 v1.1 B1015</td>\n",
       "        <td>CCAFS LC-40</td>\n",
       "        <td>SpaceX CRS-6</td>\n",
       "        <td>1898</td>\n",
       "        <td>LEO (ISS)</td>\n",
       "        <td>NASA (CRS)</td>\n",
       "        <td>Success</td>\n",
       "        <td>Failure (drone ship)</td>\n",
       "    </tr>\n",
       "    <tr>\n",
       "        <td>27-04-2015</td>\n",
       "        <td>23:03:00</td>\n",
       "        <td>F9 v1.1 B1016</td>\n",
       "        <td>CCAFS LC-40</td>\n",
       "        <td>Turkmen 52 / MonacoSAT</td>\n",
       "        <td>4707</td>\n",
       "        <td>GTO</td>\n",
       "        <td>Turkmenistan National Space Agency</td>\n",
       "        <td>Success</td>\n",
       "        <td>No attempt</td>\n",
       "    </tr>\n",
       "    <tr>\n",
       "        <td>28-06-2015</td>\n",
       "        <td>14:21:00</td>\n",
       "        <td>F9 v1.1 B1018</td>\n",
       "        <td>CCAFS LC-40</td>\n",
       "        <td>SpaceX CRS-7</td>\n",
       "        <td>1952</td>\n",
       "        <td>LEO (ISS)</td>\n",
       "        <td>NASA (CRS)</td>\n",
       "        <td>Failure (in flight)</td>\n",
       "        <td>Precluded (drone ship)</td>\n",
       "    </tr>\n",
       "    <tr>\n",
       "        <td>22-12-2015</td>\n",
       "        <td>1:29:00</td>\n",
       "        <td>F9 FT B1019</td>\n",
       "        <td>CCAFS LC-40</td>\n",
       "        <td>OG2 Mission 2  11 Orbcomm-OG2 satellites</td>\n",
       "        <td>2034</td>\n",
       "        <td>LEO</td>\n",
       "        <td>Orbcomm</td>\n",
       "        <td>Success</td>\n",
       "        <td>Success (ground pad)</td>\n",
       "    </tr>\n",
       "    <tr>\n",
       "        <td>4/3/2016</td>\n",
       "        <td>23:35:00</td>\n",
       "        <td>F9 FT B1020</td>\n",
       "        <td>CCAFS LC-40</td>\n",
       "        <td>SES-9</td>\n",
       "        <td>5271</td>\n",
       "        <td>GTO</td>\n",
       "        <td>SES</td>\n",
       "        <td>Success</td>\n",
       "        <td>Failure (drone ship)</td>\n",
       "    </tr>\n",
       "</table>"
      ],
      "text/plain": [
       "[('4/6/2010', '18:45:00', 'F9 v1.0  B0003', 'CCAFS LC-40', 'Dragon Spacecraft Qualification Unit', 0, 'LEO', 'SpaceX', 'Success', 'Failure (parachute)'),\n",
       " ('8/12/2010', '15:43:00', 'F9 v1.0  B0004', 'CCAFS LC-40', 'Dragon demo flight C1, two CubeSats, barrel of Brouere cheese', 0, 'LEO (ISS)', 'NASA (COTS) NRO', 'Success', 'Failure (parachute)'),\n",
       " ('22-05-2012', '7:44:00', 'F9 v1.0  B0005', 'CCAFS LC-40', 'Dragon demo flight C2', 525, 'LEO (ISS)', 'NASA (COTS)', 'Success', 'No attempt'),\n",
       " ('8/10/2012', '0:35:00', 'F9 v1.0  B0006', 'CCAFS LC-40', 'SpaceX CRS-1', 500, 'LEO (ISS)', 'NASA (CRS)', 'Success', 'No attempt'),\n",
       " ('1/3/2013', '15:10:00', 'F9 v1.0  B0007', 'CCAFS LC-40', 'SpaceX CRS-2', 677, 'LEO (ISS)', 'NASA (CRS)', 'Success', 'No attempt'),\n",
       " ('3/12/2013', '22:41:00', 'F9 v1.1', 'CCAFS LC-40', 'SES-8', 3170, 'GTO', 'SES', 'Success', 'No attempt'),\n",
       " ('6/1/2014', '22:06:00', 'F9 v1.1', 'CCAFS LC-40', 'Thaicom 6', 3325, 'GTO', 'Thaicom', 'Success', 'No attempt'),\n",
       " ('18-04-2014', '19:25:00', 'F9 v1.1', 'CCAFS LC-40', 'SpaceX CRS-3', 2296, 'LEO (ISS)', 'NASA (CRS)', 'Success', 'Controlled (ocean)'),\n",
       " ('14-07-2014', '15:15:00', 'F9 v1.1', 'CCAFS LC-40', 'OG2 Mission 1  6 Orbcomm-OG2 satellites', 1316, 'LEO', 'Orbcomm', 'Success', 'Controlled (ocean)'),\n",
       " ('5/8/2014', '8:00:00', 'F9 v1.1', 'CCAFS LC-40', 'AsiaSat 8', 4535, 'GTO', 'AsiaSat', 'Success', 'No attempt'),\n",
       " ('7/9/2014', '5:00:00', 'F9 v1.1 B1011', 'CCAFS LC-40', 'AsiaSat 6', 4428, 'GTO', 'AsiaSat', 'Success', 'No attempt'),\n",
       " ('21-09-2014', '5:52:00', 'F9 v1.1 B1010', 'CCAFS LC-40', 'SpaceX CRS-4', 2216, 'LEO (ISS)', 'NASA (CRS)', 'Success', 'Uncontrolled (ocean)'),\n",
       " ('10/1/2015', '9:47:00', 'F9 v1.1 B1012', 'CCAFS LC-40', 'SpaceX CRS-5', 2395, 'LEO (ISS)', 'NASA (CRS)', 'Success', 'Failure (drone ship)'),\n",
       " ('11/2/2015', '23:03:00', 'F9 v1.1 B1013', 'CCAFS LC-40', 'DSCOVR', 570, 'HEO', 'U.S. Air Force NASA NOAA', 'Success', 'Controlled (ocean)'),\n",
       " ('2/3/2015', '3:50:00', 'F9 v1.1 B1014', 'CCAFS LC-40', 'ABS-3A Eutelsat 115 West B', 4159, 'GTO', 'ABS Eutelsat', 'Success', 'No attempt'),\n",
       " ('14-04-2015', '20:10:00', 'F9 v1.1 B1015', 'CCAFS LC-40', 'SpaceX CRS-6', 1898, 'LEO (ISS)', 'NASA (CRS)', 'Success', 'Failure (drone ship)'),\n",
       " ('27-04-2015', '23:03:00', 'F9 v1.1 B1016', 'CCAFS LC-40', 'Turkmen 52 / MonacoSAT', 4707, 'GTO', 'Turkmenistan National Space Agency', 'Success', 'No attempt'),\n",
       " ('28-06-2015', '14:21:00', 'F9 v1.1 B1018', 'CCAFS LC-40', 'SpaceX CRS-7', 1952, 'LEO (ISS)', 'NASA (CRS)', 'Failure (in flight)', 'Precluded (drone ship)'),\n",
       " ('22-12-2015', '1:29:00', 'F9 FT B1019', 'CCAFS LC-40', 'OG2 Mission 2  11 Orbcomm-OG2 satellites', 2034, 'LEO', 'Orbcomm', 'Success', 'Success (ground pad)'),\n",
       " ('4/3/2016', '23:35:00', 'F9 FT B1020', 'CCAFS LC-40', 'SES-9', 5271, 'GTO', 'SES', 'Success', 'Failure (drone ship)')]"
      ]
     },
     "execution_count": 114,
     "metadata": {},
     "output_type": "execute_result"
    }
   ],
   "source": [
    "sql SELECT * FROM SPACEXTBL WHERE LAUNCH_SITE LIKE 'CCA%' LIMIT 20;"
   ]
  },
  {
   "cell_type": "markdown",
   "metadata": {},
   "source": [
    "### Task 3\n",
    "\n",
    "##### Display the total payload mass carried by boosters launched by NASA (CRS)\n"
   ]
  },
  {
   "cell_type": "code",
   "execution_count": 76,
   "metadata": {},
   "outputs": [
    {
     "name": "stdout",
     "output_type": "stream",
     "text": [
      " * sqlite:///my_data1.db\n",
      "Done.\n"
     ]
    },
    {
     "data": {
      "text/html": [
       "<table>\n",
       "    <tr>\n",
       "        <th>TOTAL_PAYLOAD</th>\n",
       "    </tr>\n",
       "    <tr>\n",
       "        <td>111268</td>\n",
       "    </tr>\n",
       "</table>"
      ],
      "text/plain": [
       "[(111268,)]"
      ]
     },
     "execution_count": 76,
     "metadata": {},
     "output_type": "execute_result"
    }
   ],
   "source": [
    "sql SELECT SUM(PAYLOAD_MASS__KG_) AS TOTAL_PAYLOAD FROM SPACEXTBL WHERE PAYLOAD  LIKE '%CRS%';"
   ]
  },
  {
   "cell_type": "markdown",
   "metadata": {},
   "source": [
    "### Task 4\n",
    "\n",
    "##### Display average payload mass carried by booster version F9 v1.1\n"
   ]
  },
  {
   "cell_type": "code",
   "execution_count": 77,
   "metadata": {},
   "outputs": [
    {
     "name": "stdout",
     "output_type": "stream",
     "text": [
      " * sqlite:///my_data1.db\n",
      "Done.\n"
     ]
    },
    {
     "data": {
      "text/html": [
       "<table>\n",
       "    <tr>\n",
       "        <th>AVG_PAYLOAD</th>\n",
       "    </tr>\n",
       "    <tr>\n",
       "        <td>2928.4</td>\n",
       "    </tr>\n",
       "</table>"
      ],
      "text/plain": [
       "[(2928.4,)]"
      ]
     },
     "execution_count": 77,
     "metadata": {},
     "output_type": "execute_result"
    }
   ],
   "source": [
    "sql SELECT AVG(PAYLOAD_MASS__KG_) AS AVG_PAYLOAD FROM SPACEXTBL WHERE BOOSTER_VERSION = 'F9 v1.1';"
   ]
  },
  {
   "cell_type": "markdown",
   "metadata": {},
   "source": [
    "### Task 5\n",
    "\n",
    "##### List the date when the first succesful landing outcome in ground pad was acheived.\n",
    "\n",
    "*Hint:Use min function*\n"
   ]
  },
  {
   "cell_type": "code",
   "execution_count": 78,
   "metadata": {},
   "outputs": [
    {
     "name": "stdout",
     "output_type": "stream",
     "text": [
      " * sqlite:///my_data1.db\n",
      "Done.\n"
     ]
    },
    {
     "data": {
      "text/html": [
       "<table>\n",
       "    <tr>\n",
       "        <th>FIRST_SUCCESS_GP</th>\n",
       "    </tr>\n",
       "    <tr>\n",
       "        <td>1/5/2017</td>\n",
       "    </tr>\n",
       "</table>"
      ],
      "text/plain": [
       "[('1/5/2017',)]"
      ]
     },
     "execution_count": 78,
     "metadata": {},
     "output_type": "execute_result"
    }
   ],
   "source": [
    "sql SELECT MIN(DATE) AS FIRST_SUCCESS_GP FROM SPACEXTBL WHERE Landing_Outcome = 'Success (ground pad)';"
   ]
  },
  {
   "cell_type": "markdown",
   "metadata": {},
   "source": [
    "### Task 6\n",
    "\n",
    "##### List the names of the boosters which have success in drone ship and have payload mass greater than 4000 but less than 6000\n"
   ]
  },
  {
   "cell_type": "code",
   "execution_count": 79,
   "metadata": {},
   "outputs": [
    {
     "name": "stdout",
     "output_type": "stream",
     "text": [
      " * sqlite:///my_data1.db\n",
      "Done.\n"
     ]
    },
    {
     "data": {
      "text/html": [
       "<table>\n",
       "    <tr>\n",
       "        <th>Booster_Version</th>\n",
       "    </tr>\n",
       "    <tr>\n",
       "        <td>F9 FT B1022</td>\n",
       "    </tr>\n",
       "    <tr>\n",
       "        <td>F9 FT B1026</td>\n",
       "    </tr>\n",
       "    <tr>\n",
       "        <td>F9 FT  B1021.2</td>\n",
       "    </tr>\n",
       "    <tr>\n",
       "        <td>F9 FT  B1031.2</td>\n",
       "    </tr>\n",
       "</table>"
      ],
      "text/plain": [
       "[('F9 FT B1022',), ('F9 FT B1026',), ('F9 FT  B1021.2',), ('F9 FT  B1031.2',)]"
      ]
     },
     "execution_count": 79,
     "metadata": {},
     "output_type": "execute_result"
    }
   ],
   "source": [
    "sql SELECT DISTINCT BOOSTER_VERSION FROM SPACEXTBL WHERE PAYLOAD_MASS__KG_ BETWEEN 4000 AND 6000 AND LANDING_OUTCOME = 'Success (drone ship)';"
   ]
  },
  {
   "cell_type": "markdown",
   "metadata": {},
   "source": [
    "### Task 7\n",
    "\n",
    "##### List the total number of successful and failure mission outcomes\n"
   ]
  },
  {
   "cell_type": "code",
   "execution_count": 80,
   "metadata": {},
   "outputs": [
    {
     "name": "stdout",
     "output_type": "stream",
     "text": [
      " * sqlite:///my_data1.db\n",
      "Done.\n"
     ]
    },
    {
     "data": {
      "text/html": [
       "<table>\n",
       "    <tr>\n",
       "        <th>Mission_Outcome</th>\n",
       "        <th>QTY</th>\n",
       "    </tr>\n",
       "    <tr>\n",
       "        <td>Failure (in flight)</td>\n",
       "        <td>1</td>\n",
       "    </tr>\n",
       "    <tr>\n",
       "        <td>Success</td>\n",
       "        <td>98</td>\n",
       "    </tr>\n",
       "    <tr>\n",
       "        <td>Success </td>\n",
       "        <td>1</td>\n",
       "    </tr>\n",
       "    <tr>\n",
       "        <td>Success (payload status unclear)</td>\n",
       "        <td>1</td>\n",
       "    </tr>\n",
       "</table>"
      ],
      "text/plain": [
       "[('Failure (in flight)', 1),\n",
       " ('Success', 98),\n",
       " ('Success ', 1),\n",
       " ('Success (payload status unclear)', 1)]"
      ]
     },
     "execution_count": 80,
     "metadata": {},
     "output_type": "execute_result"
    }
   ],
   "source": [
    "sql SELECT MISSION_OUTCOME, COUNT(*) AS QTY FROM SPACEXTBL GROUP BY MISSION_OUTCOME ORDER BY MISSION_OUTCOME;"
   ]
  },
  {
   "cell_type": "markdown",
   "metadata": {},
   "source": [
    "### Task 8\n",
    "\n",
    "##### List the   names of the booster_versions which have carried the maximum payload mass. Use a subquery\n"
   ]
  },
  {
   "cell_type": "code",
   "execution_count": 81,
   "metadata": {},
   "outputs": [
    {
     "name": "stdout",
     "output_type": "stream",
     "text": [
      " * sqlite:///my_data1.db\n",
      "Done.\n"
     ]
    },
    {
     "data": {
      "text/html": [
       "<table>\n",
       "    <tr>\n",
       "        <th>Booster_Version</th>\n",
       "    </tr>\n",
       "    <tr>\n",
       "        <td>F9 B5 B1048.4</td>\n",
       "    </tr>\n",
       "    <tr>\n",
       "        <td>F9 B5 B1048.5</td>\n",
       "    </tr>\n",
       "    <tr>\n",
       "        <td>F9 B5 B1049.4</td>\n",
       "    </tr>\n",
       "    <tr>\n",
       "        <td>F9 B5 B1049.5</td>\n",
       "    </tr>\n",
       "    <tr>\n",
       "        <td>F9 B5 B1049.7 </td>\n",
       "    </tr>\n",
       "    <tr>\n",
       "        <td>F9 B5 B1051.3</td>\n",
       "    </tr>\n",
       "    <tr>\n",
       "        <td>F9 B5 B1051.4</td>\n",
       "    </tr>\n",
       "    <tr>\n",
       "        <td>F9 B5 B1051.6</td>\n",
       "    </tr>\n",
       "    <tr>\n",
       "        <td>F9 B5 B1056.4</td>\n",
       "    </tr>\n",
       "    <tr>\n",
       "        <td>F9 B5 B1058.3 </td>\n",
       "    </tr>\n",
       "    <tr>\n",
       "        <td>F9 B5 B1060.2 </td>\n",
       "    </tr>\n",
       "    <tr>\n",
       "        <td>F9 B5 B1060.3</td>\n",
       "    </tr>\n",
       "</table>"
      ],
      "text/plain": [
       "[('F9 B5 B1048.4',),\n",
       " ('F9 B5 B1048.5',),\n",
       " ('F9 B5 B1049.4',),\n",
       " ('F9 B5 B1049.5',),\n",
       " ('F9 B5 B1049.7 ',),\n",
       " ('F9 B5 B1051.3',),\n",
       " ('F9 B5 B1051.4',),\n",
       " ('F9 B5 B1051.6',),\n",
       " ('F9 B5 B1056.4',),\n",
       " ('F9 B5 B1058.3 ',),\n",
       " ('F9 B5 B1060.2 ',),\n",
       " ('F9 B5 B1060.3',)]"
      ]
     },
     "execution_count": 81,
     "metadata": {},
     "output_type": "execute_result"
    }
   ],
   "source": [
    "sql SELECT DISTINCT BOOSTER_VERSION FROM SPACEXTBL WHERE PAYLOAD_MASS__KG_ = (SELECT MAX(PAYLOAD_MASS__KG_) FROM SPACEXTBL) ORDER BY BOOSTER_VERSION;"
   ]
  },
  {
   "cell_type": "markdown",
   "metadata": {},
   "source": [
    "### Task 9\n",
    "\n",
    "##### List the records which will display the month names, failure landing_outcomes in drone ship ,booster versions, launch_site for the months in year 2015.\n",
    "\n",
    "**Note: SQLLite does not support monthnames. So you need to use  substr(Date, 4, 2) as month to get the months and substr(Date,7,4)='2015' for year.**\n"
   ]
  },
  {
   "cell_type": "code",
   "execution_count": 118,
   "metadata": {},
   "outputs": [
    {
     "name": "stdout",
     "output_type": "stream",
     "text": [
      " * sqlite:///my_data1.db\n",
      "Done.\n"
     ]
    },
    {
     "data": {
      "text/html": [
       "<table>\n",
       "    <tr>\n",
       "        <th>Booster_Version</th>\n",
       "        <th>Launch_Site</th>\n",
       "    </tr>\n",
       "    <tr>\n",
       "        <td>F9 v1.1 B1015</td>\n",
       "        <td>CCAFS LC-40</td>\n",
       "    </tr>\n",
       "</table>"
      ],
      "text/plain": [
       "[('F9 v1.1 B1015', 'CCAFS LC-40')]"
      ]
     },
     "execution_count": 118,
     "metadata": {},
     "output_type": "execute_result"
    }
   ],
   "source": [
    "sql SELECT BOOSTER_VERSION, LAUNCH_SITE FROM SPACEXTBL WHERE LANDING_OUTCOME = 'Failure (drone ship)' AND DATE = '14-04-2015';"
   ]
  },
  {
   "cell_type": "markdown",
   "metadata": {},
   "source": [
    "### Task 10\n",
    "\n",
    "##### Rank the  count of  successful landing_outcomes between the date 04-06-2010 and 20-03-2017 in descending order.\n"
   ]
  },
  {
   "cell_type": "code",
   "execution_count": 104,
   "metadata": {},
   "outputs": [
    {
     "name": "stdout",
     "output_type": "stream",
     "text": [
      " * sqlite:///my_data1.db\n",
      "Done.\n"
     ]
    },
    {
     "data": {
      "text/html": [
       "<table>\n",
       "    <tr>\n",
       "        <th>Landing_Outcome</th>\n",
       "        <th>QTY</th>\n",
       "    </tr>\n",
       "    <tr>\n",
       "        <td>Success</td>\n",
       "        <td>11</td>\n",
       "    </tr>\n",
       "    <tr>\n",
       "        <td>No attempt</td>\n",
       "        <td>6</td>\n",
       "    </tr>\n",
       "    <tr>\n",
       "        <td>Success (ground pad)</td>\n",
       "        <td>5</td>\n",
       "    </tr>\n",
       "    <tr>\n",
       "        <td>Success (drone ship)</td>\n",
       "        <td>5</td>\n",
       "    </tr>\n",
       "    <tr>\n",
       "        <td>Failure (drone ship)</td>\n",
       "        <td>4</td>\n",
       "    </tr>\n",
       "    <tr>\n",
       "        <td>Controlled (ocean)</td>\n",
       "        <td>3</td>\n",
       "    </tr>\n",
       "    <tr>\n",
       "        <td>Failure</td>\n",
       "        <td>2</td>\n",
       "    </tr>\n",
       "</table>"
      ],
      "text/plain": [
       "[('Success', 11),\n",
       " ('No attempt', 6),\n",
       " ('Success (ground pad)', 5),\n",
       " ('Success (drone ship)', 5),\n",
       " ('Failure (drone ship)', 4),\n",
       " ('Controlled (ocean)', 3),\n",
       " ('Failure', 2)]"
      ]
     },
     "execution_count": 104,
     "metadata": {},
     "output_type": "execute_result"
    }
   ],
   "source": [
    "sql SELECT LANDING_OUTCOME, COUNT(*) AS QTY FROM SPACEXTBL WHERE DATE BETWEEN '04/06/2010' AND '20-03-2017' GROUP BY LANDING_OUTCOME ORDER BY QTY DESC;"
   ]
  },
  {
   "cell_type": "markdown",
   "metadata": {},
   "source": [
    "### Reference Links\n",
    "\n",
    "*   <a href =\"https://cf-courses-data.s3.us.cloud-object-storage.appdomain.cloud/IBMDeveloperSkillsNetwork-DB0201EN-SkillsNetwork/labs/Labs_Coursera_V5/labs/Lab%20-%20String%20Patterns%20-%20Sorting%20-%20Grouping/instructional-labs.md.html?utm_medium=Exinfluencer&utm_source=Exinfluencer&utm_content=000026UJ&utm_term=10006555&utm_id=NA-SkillsNetwork-Channel-SkillsNetworkCoursesIBMDS0321ENSkillsNetwork26802033-2022-01-01&origin=www.coursera.org\">Hands-on Lab : String Patterns, Sorting and Grouping</a>\n",
    "\n",
    "*   <a  href=\"https://cf-courses-data.s3.us.cloud-object-storage.appdomain.cloud/IBMDeveloperSkillsNetwork-DB0201EN-SkillsNetwork/labs/Labs_Coursera_V5/labs/Lab%20-%20Built-in%20functions%20/Hands-on_Lab__Built-in_Functions.md.html?utm_medium=Exinfluencer&utm_source=Exinfluencer&utm_content=000026UJ&utm_term=10006555&utm_id=NA-SkillsNetwork-Channel-SkillsNetworkCoursesIBMDS0321ENSkillsNetwork26802033-2022-01-01&origin=www.coursera.org\">Hands-on Lab: Built-in functions</a>\n",
    "\n",
    "*   <a  href=\"https://cf-courses-data.s3.us.cloud-object-storage.appdomain.cloud/IBMDeveloperSkillsNetwork-DB0201EN-SkillsNetwork/labs/Labs_Coursera_V5/labs/Lab%20-%20Sub-queries%20and%20Nested%20SELECTs%20/instructional-labs.md.html?utm_medium=Exinfluencer&utm_source=Exinfluencer&utm_content=000026UJ&utm_term=10006555&utm_id=NA-SkillsNetwork-Channel-SkillsNetworkCoursesIBMDS0321ENSkillsNetwork26802033-2022-01-01&origin=www.coursera.org\">Hands-on Lab : Sub-queries and Nested SELECT Statements</a>\n",
    "\n",
    "*   <a href=\"https://cf-courses-data.s3.us.cloud-object-storage.appdomain.cloud/IBMDeveloperSkillsNetwork-DB0201EN-SkillsNetwork/labs/Module%205/DB0201EN-Week3-1-3-SQLmagic.ipynb?utm_medium=Exinfluencer&utm_source=Exinfluencer&utm_content=000026UJ&utm_term=10006555&utm_id=NA-SkillsNetwork-Channel-SkillsNetworkCoursesIBMDS0321ENSkillsNetwork26802033-2022-01-01\">Hands-on Tutorial: Accessing Databases with SQL magic</a>\n",
    "\n",
    "*   <a href= \"https://cf-courses-data.s3.us.cloud-object-storage.appdomain.cloud/IBMDeveloperSkillsNetwork-DB0201EN-SkillsNetwork/labs/Module%205/DB0201EN-Week3-1-4-Analyzing.ipynb?utm_medium=Exinfluencer&utm_source=Exinfluencer&utm_content=000026UJ&utm_term=10006555&utm_id=NA-SkillsNetwork-Channel-SkillsNetworkCoursesIBMDS0321ENSkillsNetwork26802033-2022-01-01\">Hands-on Lab: Analyzing a real World Data Set</a>\n"
   ]
  },
  {
   "cell_type": "markdown",
   "metadata": {},
   "source": [
    "## Author(s)\n",
    "\n",
    "<h4> Lakshmi Holla </h4>\n"
   ]
  },
  {
   "cell_type": "markdown",
   "metadata": {},
   "source": [
    "## Other Contributors\n",
    "\n",
    "<h4> Rav Ahuja </h4>\n"
   ]
  },
  {
   "cell_type": "markdown",
   "metadata": {},
   "source": [
    "## Change log\n",
    "\n",
    "| Date       | Version | Changed by    | Change Description        |\n",
    "| ---------- | ------- | ------------- | ------------------------- |\n",
    "| 2021-07-09 | 0.2     | Lakshmi Holla | Changes made in magic sql |\n",
    "| 2021-05-20 | 0.1     | Lakshmi Holla | Created Initial Version   |\n"
   ]
  },
  {
   "cell_type": "markdown",
   "metadata": {},
   "source": [
    "## <h3 align=\"center\"> © IBM Corporation 2021. All rights reserved. <h3/>\n"
   ]
  }
 ],
 "metadata": {
  "kernelspec": {
   "display_name": "Python 3 (ipykernel)",
   "language": "python",
   "name": "python3"
  },
  "language_info": {
   "codemirror_mode": {
    "name": "ipython",
    "version": 3
   },
   "file_extension": ".py",
   "mimetype": "text/x-python",
   "name": "python",
   "nbconvert_exporter": "python",
   "pygments_lexer": "ipython3",
   "version": "3.9.13"
  }
 },
 "nbformat": 4,
 "nbformat_minor": 4
}
